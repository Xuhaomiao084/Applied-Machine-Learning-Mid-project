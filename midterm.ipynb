{
 "cells": [
  {
   "cell_type": "code",
   "execution_count": 51,
   "metadata": {},
   "outputs": [],
   "source": [
    "###\n",
    "# Import Libraries\n",
    "###\n",
    "\n",
    "import pandas as pd\n",
    "import numpy as np\n",
    "from sklearn.model_selection import train_test_split\n",
    "from nltk.stem import WordNetLemmatizer\n",
    "import nltk\n",
    "from nltk.corpus import stopwords\n",
    "import re\n",
    "from sklearn.feature_extraction.text import ENGLISH_STOP_WORDS\n",
    "from sklearn.feature_extraction.text import CountVectorizer\n",
    "import numpy as np\n",
    "from sklearn.cluster import KMeans\n",
    "from sklearn.metrics import accuracy_score, f1_score\n",
    "from scipy.sparse import vstack\n",
    "from scipy.optimize import linear_sum_assignment\n",
    "from sklearn.mixture import GaussianMixture\n",
    "from sklearn.naive_bayes import MultinomialNB\n",
    "from sklearn.linear_model import LogisticRegression"
   ]
  },
  {
   "cell_type": "code",
   "execution_count": 52,
   "metadata": {},
   "outputs": [
    {
     "name": "stderr",
     "output_type": "stream",
     "text": [
      "[nltk_data] Downloading package stopwords to\n",
      "[nltk_data]     C:\\Users\\haomiao_xu\\AppData\\Roaming\\nltk_data...\n",
      "[nltk_data]   Package stopwords is already up-to-date!\n",
      "[nltk_data] Downloading package wordnet to\n",
      "[nltk_data]     C:\\Users\\haomiao_xu\\AppData\\Roaming\\nltk_data...\n",
      "[nltk_data]   Package wordnet is already up-to-date!\n"
     ]
    }
   ],
   "source": [
    "###\n",
    "# Import Data and some preparation\n",
    "###\n",
    "\n",
    "test_path = './data/test.csv'\n",
    "train_path = './data/train.csv'\n",
    "val_path = './data/val.csv'\n",
    "\n",
    "train_data = pd.read_csv(train_path)\n",
    "test_data = pd.read_csv(test_path)\n",
    "val_data = pd.read_csv(val_path)\n",
    "\n",
    "nltk.download('stopwords')\n",
    "nltk.download('wordnet')\n",
    "\n",
    "lemmatizer = WordNetLemmatizer()"
   ]
  },
  {
   "cell_type": "code",
   "execution_count": 53,
   "metadata": {},
   "outputs": [],
   "source": [
    "### \n",
    "# text_preprocess\n",
    "###\n",
    "\n",
    "def preprocess_text(text):\n",
    "    # Lowercase and remove special characters\n",
    "    if text is None or text == \"\":\n",
    "        return \"\"\n",
    "    if not isinstance(text, str):\n",
    "        return \"\"\n",
    "    text = text.lower()\n",
    "    text = re.sub(r'[^\\w\\s]', '', text)\n",
    "    text = re.sub(r'\\d+', '', text)\n",
    "    text = ' '.join([lemmatizer.lemmatize(word) for word in text.split()])\n",
    "    # Remove stop words\n",
    "    text = \" \".join([word for word in text.split() if word not in ENGLISH_STOP_WORDS])\n",
    "    return text"
   ]
  },
  {
   "cell_type": "code",
   "execution_count": 54,
   "metadata": {},
   "outputs": [],
   "source": [
    "###\n",
    "# vectorize the phrase (1 for bag of words, 2 for N-gram)\n",
    "###\n",
    "\n",
    "def phrase_vectorize(vectorize_method, train_data):\n",
    "    if (vectorize_method == 1):\n",
    "        vectorizer = CountVectorizer(binary=True, min_df=6)\n",
    "    elif(vectorize_method == 2):\n",
    "        vectorizer = CountVectorizer(binary=True, min_df=4, ngram_range=(2,2))\n",
    "    else:\n",
    "        raise ValueError(\"vectorize_method error\")\n",
    "    vectorizer.fit(train_data['Phrase'])\n",
    "    return vectorizer"
   ]
  },
  {
   "cell_type": "code",
   "execution_count": 55,
   "metadata": {},
   "outputs": [],
   "source": [
    "###\n",
    "# unsupervised learning (1 for K-means, 2 for GMM)\n",
    "###\n",
    "\n",
    "def unsup_learn(learn_method, vectorizer, K, unlabeled_train, X_train_labeled, y_train_labeled):\n",
    "    X_train_unlabeled = vectorizer.transform(unlabeled_train['Phrase'])\n",
    "\n",
    "    if (learn_method == 1):\n",
    "        learn_model = KMeans(n_clusters=K, random_state=42)\n",
    "    elif (learn_method == 2):\n",
    "        learn_model = GaussianMixture(n_clusters=K, random_state=42)\n",
    "    else:\n",
    "        raise ValueError(\"unsupervise learn_method error\")\n",
    "    pseudo_labels = learn_model.fit_predict(X_train_unlabeled)\n",
    "\n",
    "    cost_matrix = np.zeros((K, K))\n",
    "    for cluster_id in range(K):\n",
    "        # Predict cluster assignments for the labeled data\n",
    "        labeled_in_cluster = y_train_labeled[learn_model.predict(X_train_labeled) == cluster_id]\n",
    "        for label in range(K):\n",
    "            # Count mismatches to form the cost matrix\n",
    "            cost_matrix[cluster_id, label] = np.sum(labeled_in_cluster != label)\n",
    "            \n",
    "    row_ind, col_ind = linear_sum_assignment(cost_matrix)\n",
    "    cluster_to_label_map = {row: col for row, col in zip(row_ind, col_ind)}\n",
    "    pseudo_labels_remapped = np.array([cluster_to_label_map[cluster] for cluster in pseudo_labels])\n",
    "    X_combined = vstack([X_train_labeled, X_train_unlabeled])\n",
    "    y_combined = np.concatenate((y_train_labeled, pseudo_labels_remapped))\n",
    "    return X_combined, y_combined\n"
   ]
  },
  {
   "cell_type": "code",
   "execution_count": 56,
   "metadata": {},
   "outputs": [],
   "source": [
    "###\n",
    "# supervised learning (1 for Multinomial Naive Bayes, 2 for Softmax Regression)\n",
    "###\n",
    "\n",
    "def sup_learn(learn_method, X_combined, y_combined, X_val, y_val):\n",
    "\n",
    "    if (learn_method == 1):\n",
    "        learn_model = MultinomialNB(alpha=1) \n",
    "    elif (learn_method == 2):\n",
    "        learn_model = LogisticRegression(multi_class='multinomial', solver='lbfgs', max_iter=1000)\n",
    "    else:\n",
    "        raise ValueError(\"supervise learn_method error\")\n",
    "\n",
    "    learn_model.fit(X_combined, y_combined)\n",
    "\n",
    "    y_pred_val = learn_model.predict(X_val)\n",
    "\n",
    "    val_accuracy = accuracy_score(y_val, y_pred_val)\n",
    "    f1 = f1_score(y_val, y_pred_val, average=\"macro\")\n",
    "    return learn_method, val_accuracy, f1\n"
   ]
  },
  {
   "cell_type": "code",
   "execution_count": 57,
   "metadata": {},
   "outputs": [],
   "source": [
    "train_data['Phrase'] = train_data['Phrase'].apply(preprocess_text)\n",
    "test_data['Phrase'] = test_data['Phrase'].apply(preprocess_text)\n",
    "val_data['Phrase'] = val_data['Phrase'].apply(preprocess_text)\n",
    "\n",
    "# Separate labeled and unlabeled data\n",
    "labeled_train = train_data[train_data['Sentiment'] != -100]\n",
    "unlabeled_train= train_data[train_data['Sentiment'] == -100]\n",
    "labeled_val = val_data[val_data['Sentiment'] != -100]\n",
    "unlabeled_val = val_data[val_data['Sentiment'] == -100]"
   ]
  },
  {
   "cell_type": "code",
   "execution_count": 58,
   "metadata": {},
   "outputs": [
    {
     "name": "stderr",
     "output_type": "stream",
     "text": [
      "c:\\Users\\haomiao_xu\\.conda\\envs\\stat\\lib\\site-packages\\sklearn\\cluster\\_kmeans.py:870: FutureWarning: The default value of `n_init` will change from 10 to 'auto' in 1.4. Set the value of `n_init` explicitly to suppress the warning\n",
      "  warnings.warn(\n"
     ]
    },
    {
     "name": "stdout",
     "output_type": "stream",
     "text": [
      "Validation Accuracy: 0.8077\n",
      "F1 Score on Validation Set: 0.8056\n"
     ]
    }
   ],
   "source": [
    "my_vectorizer = phrase_vectorize(1, train_data)\n",
    "X_train_labeled = my_vectorizer.transform(labeled_train['Phrase'])\n",
    "X_val_labeled = my_vectorizer.transform(labeled_val['Phrase'])\n",
    "y_train_labeled = labeled_train['Sentiment']\n",
    "y_val = labeled_val['Sentiment']\n",
    "K = len(np.unique(y_train_labeled))  # number of classes\n",
    "X_combined, y_combined = unsup_learn(1, my_vectorizer, K, unlabeled_train, X_train_labeled, y_train_labeled)\n",
    "final_model, val_accuracy, f1 = sup_learn(1, X_combined, y_combined, X_val_labeled, y_val)\n",
    "print(f\"Validation Accuracy: {val_accuracy:.4f}\")\n",
    "print(f\"F1 Score on Validation Set: {f1:.4f}\")"
   ]
  },
  {
   "cell_type": "code",
   "execution_count": null,
   "metadata": {},
   "outputs": [
    {
     "name": "stdout",
     "output_type": "stream",
     "text": [
      "Total number of features (vocabulary size): 4496\n",
      "First 10 words in the vocabulary: ['abandoned' 'ability' 'ablaze' 'able' 'abo' 'absolutely' 'absorb'\n",
      " 'absorbs' 'absurd' 'absurdity']\n"
     ]
    }
   ],
   "source": [
    "vocab_size = len(my_vectorizer.get_feature_names_out())\n",
    "print(f\"Total number of features (vocabulary size): {vocab_size}\")\n",
    "\n",
    "print(f\"First 10 words in the vocabulary: {my_vectorizer.get_feature_names_out()[:10]}\")"
   ]
  }
 ],
 "metadata": {
  "kernelspec": {
   "display_name": "stat",
   "language": "python",
   "name": "python3"
  },
  "language_info": {
   "codemirror_mode": {
    "name": "ipython",
    "version": 3
   },
   "file_extension": ".py",
   "mimetype": "text/x-python",
   "name": "python",
   "nbconvert_exporter": "python",
   "pygments_lexer": "ipython3",
   "version": "3.8.13"
  }
 },
 "nbformat": 4,
 "nbformat_minor": 2
}
