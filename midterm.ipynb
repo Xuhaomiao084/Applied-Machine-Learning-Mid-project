{
 "cells": [
  {
   "cell_type": "code",
   "execution_count": 152,
   "metadata": {},
   "outputs": [],
   "source": [
    "import pandas as pd\n",
    "import numpy as np\n",
    "from sklearn.model_selection import train_test_split\n"
   ]
  },
  {
   "cell_type": "code",
   "execution_count": 153,
   "metadata": {},
   "outputs": [],
   "source": [
    "test_path = './data/test.csv'\n",
    "train_path = './data/train.csv'\n",
    "val_path = './data/val.csv'\n",
    "\n",
    "train_data = pd.read_csv(train_path)\n",
    "test_data = pd.read_csv(test_path)\n",
    "val_data = pd.read_csv(val_path)\n",
    "import re\n",
    "from sklearn.feature_extraction.text import ENGLISH_STOP_WORDS\n",
    "\n",
    "def preprocess_text(text):\n",
    "    # Lowercase and remove special characters\n",
    "    if text is None or text == \"\":\n",
    "        return \"\"\n",
    "    if not isinstance(text, str):\n",
    "        return \"\"\n",
    "    text = text.lower()\n",
    "    text = re.sub(r'[^\\w\\s]', '', text)\n",
    "    # Remove stop words\n",
    "    text = \" \".join([word for word in text.split() if word not in ENGLISH_STOP_WORDS])\n",
    "    return text\n",
    "\n",
    "train_data['Phrase'] = train_data['Phrase'].apply(preprocess_text)\n",
    "test_data['Phrase'] = test_data['Phrase'].apply(preprocess_text)\n",
    "val_data['Phrase'] = val_data['Phrase'].apply(preprocess_text)\n",
    "\n",
    "\n",
    "# Separate labeled and unlabeled data\n",
    "labeled_train = train_data[train_data['Sentiment'] != -100]\n",
    "unlabeled_train= train_data[train_data['Sentiment'] == -100]\n",
    "labeled_val = val_data[val_data['Sentiment'] != -100]\n",
    "unlabeled_val = val_data[val_data['Sentiment'] == -100]\n",
    "\n",
    "\n"
   ]
  },
  {
   "cell_type": "code",
   "execution_count": 154,
   "metadata": {},
   "outputs": [
    {
     "name": "stdout",
     "output_type": "stream",
     "text": [
      "Total number of features (vocabulary size): 5066\n",
      "First 10 words in the vocabulary: ['0s' '10' '100' '1000' '10000' '100000' '1010' '10am' '10k' '10minute']\n"
     ]
    }
   ],
   "source": [
    "from sklearn.feature_extraction.text import CountVectorizer\n",
    "\n",
    "\n",
    "# vectorizer = CountVectorizer(binary=True, min_df=4, ngram_range=(2,2))\n",
    "vectorizer = CountVectorizer(binary=True, min_df=6)\n",
    "vectorizer.fit(train_data['Phrase'])\n",
    "\n",
    "X_train_labeled = vectorizer.transform(labeled_train['Phrase'])\n",
    "X_val_labeled = vectorizer.transform(labeled_val['Phrase'])\n",
    "y_train_labeled = labeled_train['Sentiment']\n",
    "y_val = labeled_val['Sentiment']\n",
    "\n",
    "\n",
    "vocab_size = len(vectorizer.get_feature_names_out())\n",
    "print(f\"Total number of features (vocabulary size): {vocab_size}\")\n",
    "\n",
    "print(f\"First 10 words in the vocabulary: {vectorizer.get_feature_names_out()[:10]}\")"
   ]
  },
  {
   "cell_type": "code",
   "execution_count": null,
   "metadata": {},
   "outputs": [],
   "source": []
  },
  {
   "cell_type": "code",
   "execution_count": 155,
   "metadata": {},
   "outputs": [
    {
     "name": "stdout",
     "output_type": "stream",
     "text": [
      "Validation Accuracy: 0.8394\n",
      "F1 Score on Validation Set: 0.8388\n"
     ]
    }
   ],
   "source": [
    "import numpy as np\n",
    "from sklearn.cluster import KMeans\n",
    "from sklearn.metrics import f1_score\n",
    "from scipy.sparse import vstack\n",
    "from scipy.optimize import linear_sum_assignment\n",
    "\n",
    "# Step 1: Generate pseudo-labels with KMeans on unlabeled data\n",
    "X_train_unlabeled = vectorizer.transform(unlabeled_train['Phrase'])\n",
    "X_val = vectorizer.transform(labeled_val['Phrase'])\n",
    "\n",
    "K = len(np.unique(y_train_labeled))  # number of classes\n",
    "kmeans = KMeans(n_clusters=K, random_state=42)\n",
    "pseudo_labels = kmeans.fit_predict(X_train_unlabeled)\n",
    "\n",
    "# Step 2: Create cost matrix for Hungarian Algorithm\n",
    "cost_matrix = np.zeros((K, K))\n",
    "for cluster_id in range(K):\n",
    "    # Predict cluster assignments for the labeled data\n",
    "    labeled_in_cluster = y_train_labeled[kmeans.predict(X_train_labeled) == cluster_id]\n",
    "    for label in range(K):\n",
    "        # Count mismatches to form the cost matrix\n",
    "        cost_matrix[cluster_id, label] = np.sum(labeled_in_cluster != label)\n",
    "\n",
    "# Step 3: Apply Hungarian Algorithm for optimal mapping\n",
    "row_ind, col_ind = linear_sum_assignment(cost_matrix)\n",
    "\n",
    "# Step 4: Remap pseudo-labels using the optimal assignment\n",
    "cluster_to_label_map = {row: col for row, col in zip(row_ind, col_ind)}\n",
    "pseudo_labels_remapped = np.array([cluster_to_label_map[cluster] for cluster in pseudo_labels])\n",
    "\n",
    "# Step 5: Combine labeled and remapped pseudo-labeled data\n",
    "X_combined = vstack([X_train_labeled, X_train_unlabeled])\n",
    "y_combined = np.concatenate((y_train_labeled, pseudo_labels_remapped))\n",
    "\n",
    "# Step 6: Calculate psies and phis using the combined data\n",
    "n_combined = X_combined.shape[0]\n",
    "d = X_combined.shape[1]\n",
    "\n",
    "psies_combined = np.zeros((K, d))  # P(X|Y=k) for each feature in each class\n",
    "phis_combined = np.zeros(K)         # P(Y=k) for each class\n",
    "alpha = 1  # Laplace smoothing\n",
    "\n",
    "for k in range(K):\n",
    "    X_k = X_combined[y_combined == k].toarray()\n",
    "    nk = X_k.shape[0]  # number of samples in class k\n",
    "    \n",
    "    psies_combined[k] = (np.sum(X_k, axis=0) + alpha) / (nk + 2 * alpha)\n",
    "    phis_combined[k] = nk / float(n_combined)\n",
    "\n",
    "# Step 7: Define function for Naive Bayes predictions\n",
    "def nb_predictions(x, psies, phis):\n",
    "    if not isinstance(x, np.ndarray):\n",
    "        x = x.toarray()\n",
    "    \n",
    "    n, d = x.shape\n",
    "    psies = psies.clip(1e-14, 1 - 1e-14)  # Avoid log(0) errors\n",
    "    \n",
    "    logpy = np.log(phis).reshape((K, 1))\n",
    "    logpxy = x @ np.log(psies.T) + (1 - x) @ np.log(1 - psies.T)\n",
    "    logpyx = logpxy + logpy.T\n",
    "    return logpyx.argmax(axis=1), logpyx\n",
    "\n",
    "# Step 8: Predict and evaluate on validation set\n",
    "y_pred_val, _ = nb_predictions(X_val, psies_combined, phis_combined)\n",
    "\n",
    "val_accuracy = (y_pred_val == y_val).mean()\n",
    "print(f\"Validation Accuracy: {val_accuracy:.4f}\")\n",
    "\n",
    "# Calculate F1 score on the validation set\n",
    "f1 = f1_score(y_val, y_pred_val, average=\"macro\")\n",
    "print(f\"F1 Score on Validation Set: {f1:.4f}\")\n"
   ]
  }
 ],
 "metadata": {
  "kernelspec": {
   "display_name": "cs396",
   "language": "python",
   "name": "python3"
  },
  "language_info": {
   "codemirror_mode": {
    "name": "ipython",
    "version": 3
   },
   "file_extension": ".py",
   "mimetype": "text/x-python",
   "name": "python",
   "nbconvert_exporter": "python",
   "pygments_lexer": "ipython3",
   "version": "3.12.3"
  }
 },
 "nbformat": 4,
 "nbformat_minor": 2
}
