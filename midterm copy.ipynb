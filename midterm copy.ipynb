{
 "cells": [
  {
   "cell_type": "code",
   "execution_count": 406,
   "metadata": {},
   "outputs": [],
   "source": [
    "###\n",
    "# Import Libraries\n",
    "###\n",
    "\n",
    "import pandas as pd\n",
    "import numpy as np\n",
    "from sklearn.model_selection import train_test_split\n",
    "from nltk.stem import WordNetLemmatizer\n",
    "import nltk\n",
    "from nltk.corpus import stopwords\n",
    "import re\n",
    "from sklearn.feature_extraction.text import ENGLISH_STOP_WORDS\n",
    "from sklearn.feature_extraction.text import CountVectorizer\n",
    "import numpy as np\n",
    "from sklearn.cluster import KMeans\n",
    "from sklearn.metrics import accuracy_score, f1_score\n",
    "from scipy.sparse import vstack\n",
    "from scipy.optimize import linear_sum_assignment\n",
    "from sklearn.mixture import GaussianMixture\n",
    "from sklearn.naive_bayes import MultinomialNB\n",
    "from sklearn.linear_model import LogisticRegression\n",
    "import warnings\n",
    "warnings.filterwarnings(\"ignore\")"
   ]
  },
  {
   "cell_type": "code",
   "execution_count": 407,
   "metadata": {},
   "outputs": [],
   "source": [
    "np.random.seed(0)"
   ]
  },
  {
   "cell_type": "code",
   "execution_count": 408,
   "metadata": {},
   "outputs": [
    {
     "name": "stderr",
     "output_type": "stream",
     "text": [
      "[nltk_data] Downloading package stopwords to\n",
      "[nltk_data]     /Users/thomasli/nltk_data...\n",
      "[nltk_data]   Package stopwords is already up-to-date!\n",
      "[nltk_data] Downloading package wordnet to\n",
      "[nltk_data]     /Users/thomasli/nltk_data...\n",
      "[nltk_data]   Package wordnet is already up-to-date!\n"
     ]
    }
   ],
   "source": [
    "###\n",
    "# Import Data and some preparation\n",
    "###\n",
    "\n",
    "test_path = './data/test.csv'\n",
    "train_path = './data/train.csv'\n",
    "val_path = './data/val.csv'\n",
    "\n",
    "train_data = pd.read_csv(train_path)\n",
    "test_data = pd.read_csv(test_path)\n",
    "val_data = pd.read_csv(val_path)\n",
    "\n",
    "nltk.download('stopwords')\n",
    "nltk.download('wordnet')\n",
    "\n",
    "lemmatizer = WordNetLemmatizer()"
   ]
  },
  {
   "cell_type": "code",
   "execution_count": 409,
   "metadata": {},
   "outputs": [],
   "source": [
    "### \n",
    "# text_preprocess\n",
    "###\n",
    "\n",
    "def preprocess_text(text):\n",
    "    # Lowercase and remove special characters\n",
    "    if text is None or text == \"\":\n",
    "        return \"\"\n",
    "    if not isinstance(text, str):\n",
    "        return \"\"\n",
    "    text = text.lower()\n",
    "    text = re.sub(r'[^\\w\\s]', '', text)\n",
    "\n",
    "    text = re.sub(r'\\d+', '', text)\n",
    "    text = ' '.join([lemmatizer.lemmatize(word) for word in text.split()])\n",
    "    # Remove stop words\n",
    "    text = \" \".join([word for word in text.split() if word not in ENGLISH_STOP_WORDS])\n",
    "    return text"
   ]
  },
  {
   "cell_type": "code",
   "execution_count": 410,
   "metadata": {},
   "outputs": [
    {
     "name": "stdout",
     "output_type": "stream",
     "text": [
      "Accuracy:  0.8708720330237358\n",
      "F1 Score:  0.8706522565078751\n"
     ]
    }
   ],
   "source": [
    "train_data['Phrase'] = train_data['Phrase'].apply(preprocess_text)\n",
    "test_data['Phrase'] = test_data['Phrase'].apply(preprocess_text)\n",
    "val_data['Phrase'] = val_data['Phrase'].apply(preprocess_text)\n",
    "\n",
    "# Separate labeled and unlabeled data\n",
    "labeled_train = train_data[train_data['Sentiment'] != -100]\n",
    "labeled_val = val_data[val_data['Sentiment'] != -100]\n",
    "\n",
    "#run MVNB on the labeled data\n",
    "def run_supervised( labeled_train, labeled_val, test_data):\n",
    "    # Create a count vectorizer\n",
    "    count_vectorizer = CountVectorizer(binary=True, min_df=5)\n",
    "    X_train = count_vectorizer.fit_transform(labeled_train['Phrase'])\n",
    "    y_train = labeled_train['Sentiment']\n",
    "    X_val = count_vectorizer.transform(labeled_val['Phrase'])\n",
    "    y_val = labeled_val['Sentiment']\n",
    "    X_test = count_vectorizer.transform(test_data['Phrase'])\n",
    "\n",
    "    # Train a Multinomial Naive Bayes classifier\n",
    "    # clf = MultinomialNB(alpha=0.5)\n",
    "    clf = LogisticRegression(multi_class='multinomial', solver='lbfgs', max_iter=500)\n",
    "\n",
    "    clf.fit(X_train, y_train)\n",
    "    y_pred = clf.predict(X_val)\n",
    "    print(\"Accuracy: \", accuracy_score(y_val, y_pred))\n",
    "    print(\"F1 Score: \", f1_score(y_val, y_pred, average='weighted'))\n",
    "    test_data['Sentiment'] = clf.predict(X_test)\n",
    "    return test_data[['PhraseID', 'Sentiment']]\n",
    "\n",
    "# Run the model and save the output\n",
    "test_results = run_supervised(labeled_train, labeled_val, test_data)\n",
    "test_results.to_csv('test_sentiment_output.csv', index=False)\n",
    "\n"
   ]
  }
 ],
 "metadata": {
  "kernelspec": {
   "display_name": "stat",
   "language": "python",
   "name": "python3"
  },
  "language_info": {
   "codemirror_mode": {
    "name": "ipython",
    "version": 3
   },
   "file_extension": ".py",
   "mimetype": "text/x-python",
   "name": "python",
   "nbconvert_exporter": "python",
   "pygments_lexer": "ipython3",
   "version": "3.12.3"
  }
 },
 "nbformat": 4,
 "nbformat_minor": 2
}
